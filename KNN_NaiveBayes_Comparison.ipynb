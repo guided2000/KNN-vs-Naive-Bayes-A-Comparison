{
 "cells": [
  {
   "cell_type": "markdown",
   "id": "05fec206",
   "metadata": {},
   "source": [
    "\n",
    "# پروژه: مقایسه مدل‌های KNN و Naive Bayes\n",
    "این پروژه شامل مراحل زیر است:\n",
    "1. انتخاب مجموعه داده\n",
    "2. ارزیابی مدل‌ها با استفاده از روش‌های Hold-out و Cross-validation\n",
    "3. پیاده‌سازی مدل بیزی ساده (Naive Bayes)\n",
    "4. بهینه‌سازی مقدار K در روش KNN\n",
    "5. ترسیم منحنی نرخ صحت بر حسب مقادیر مختلف K\n",
    "6. مقایسه متریک‌های دو مدل شامل دقت (Accuracy)، بازخوانی (Recall)، دقت پیش‌بینی (Precision) و F1-Score\n"
   ]
  },
  {
   "cell_type": "code",
   "execution_count": null,
   "id": "31dff233",
   "metadata": {},
   "outputs": [],
   "source": [
    "! pip install numpy pandas scikit-learn matplotlib\n"
   ]
  },
  {
   "cell_type": "code",
   "execution_count": 4,
   "id": "aa131ede",
   "metadata": {},
   "outputs": [],
   "source": [
    "\n",
    "import numpy as np\n",
    "import pandas as pd\n",
    "from sklearn.datasets import load_iris\n",
    "from sklearn.model_selection import train_test_split, KFold, cross_val_score, GridSearchCV\n",
    "from sklearn.naive_bayes import GaussianNB\n",
    "from sklearn.neighbors import KNeighborsClassifier\n",
    "from sklearn.metrics import accuracy_score, precision_score, recall_score, f1_score, confusion_matrix\n",
    "import matplotlib.pyplot as plt\n"
   ]
  },
  {
   "cell_type": "markdown",
   "id": "e197261b",
   "metadata": {},
   "source": [
    "## 1. انتخاب مجموعه داده"
   ]
  },
  {
   "cell_type": "code",
   "execution_count": 5,
   "id": "db94a594",
   "metadata": {},
   "outputs": [],
   "source": [
    "\n",
    "# انتخاب مجموعه داده (در اینجا از داده Iris استفاده می‌شود)\n",
    "data = load_iris()\n",
    "X = data.data\n",
    "y = data.target\n"
   ]
  },
  {
   "cell_type": "markdown",
   "id": "964711fb",
   "metadata": {},
   "source": [
    "## 2. ارزیابی مدل‌ها با روش‌های Hold-out و Cross-validation"
   ]
  },
  {
   "cell_type": "code",
   "execution_count": 6,
   "id": "61d859fc",
   "metadata": {},
   "outputs": [],
   "source": [
    "\n",
    "# روش Hold-out\n",
    "holdout_accuracies = []\n",
    "for _ in range(100):  # تکرار 100 بار\n",
    "    X_train, X_test, y_train, y_test = train_test_split(X, y, test_size=0.3, random_state=None)\n",
    "    model_nb = GaussianNB()\n",
    "    model_nb.fit(X_train, y_train)\n",
    "    y_pred = model_nb.predict(X_test)\n",
    "    holdout_accuracies.append(accuracy_score(y_test, y_pred))\n",
    "holdout_mean_accuracy = np.mean(holdout_accuracies)\n",
    "\n",
    "# روش 10-fold Cross Validation\n",
    "kf = KFold(n_splits=10, shuffle=True, random_state=42)\n",
    "model_nb_cv = GaussianNB()\n",
    "cv_accuracies = cross_val_score(model_nb_cv, X, y, cv=kf, scoring='accuracy')\n",
    "cross_val_mean_accuracy = np.mean(cv_accuracies)\n"
   ]
  },
  {
   "cell_type": "markdown",
   "id": "86aaddb2",
   "metadata": {},
   "source": [
    "## 3. پیاده‌سازی مدل بیزی ساده"
   ]
  },
  {
   "cell_type": "code",
   "execution_count": 7,
   "id": "384b307b",
   "metadata": {},
   "outputs": [],
   "source": [
    "\n",
    "# پیاده‌سازی روش بیزی ساده\n",
    "model_nb.fit(X, y)\n",
    "nb_accuracy = np.mean(cv_accuracies)\n"
   ]
  },
  {
   "cell_type": "markdown",
   "id": "dddf11db",
   "metadata": {},
   "source": [
    "## 4. بهینه‌سازی مقدار K در روش KNN"
   ]
  },
  {
   "cell_type": "code",
   "execution_count": null,
   "id": "b1957813",
   "metadata": {},
   "outputs": [],
   "source": [
    "\n",
    "# بهینه‌سازی K در KNN\n",
    "param_grid = {'n_neighbors': range(1, len(X))}\n",
    "grid_search = GridSearchCV(KNeighborsClassifier(), param_grid, cv=10, scoring='accuracy')\n",
    "grid_search.fit(X, y)\n",
    "best_k = grid_search.best_params_['n_neighbors']\n",
    "best_accuracy = grid_search.best_score_\n"
   ]
  },
  {
   "cell_type": "markdown",
   "id": "9b688c51",
   "metadata": {},
   "source": [
    "## 5. ترسیم منحنی نرخ صحت بر حسب مقادیر مختلف K"
   ]
  },
  {
   "cell_type": "code",
   "execution_count": null,
   "id": "f76c38bf",
   "metadata": {},
   "outputs": [],
   "source": [
    "\n",
    "# ترسیم منحنی نرخ صحت\n",
    "k_values = list(range(1, len(X)))\n",
    "accuracies = []\n",
    "for k in k_values:\n",
    "    knn = KNeighborsClassifier(n_neighbors=k)\n",
    "    scores = cross_val_score(knn, X, y, cv=10, scoring='accuracy')\n",
    "    accuracies.append(np.mean(scores))\n",
    "\n",
    "plt.plot(k_values, accuracies, marker='o')\n",
    "plt.xlabel('K Value')\n",
    "plt.ylabel('Accuracy')\n",
    "plt.title('Accuracy vs K Value for KNN')\n",
    "plt.show()\n"
   ]
  },
  {
   "cell_type": "markdown",
   "id": "2ea55250",
   "metadata": {},
   "source": [
    "## 6. مقایسه متریک‌های دو مدل"
   ]
  },
  {
   "cell_type": "code",
   "execution_count": null,
   "id": "8cd8541d",
   "metadata": {},
   "outputs": [],
   "source": [
    "\n",
    "# مقایسه دو روش\n",
    "y_pred_nb = model_nb.predict(X)\n",
    "nb_precision = precision_score(y, y_pred_nb, average='weighted')\n",
    "nb_recall = recall_score(y, y_pred_nb, average='weighted')\n",
    "nb_f1 = f1_score(y, y_pred_nb, average='weighted')\n",
    "nb_confusion = confusion_matrix(y, y_pred_nb)\n",
    "\n",
    "knn = KNeighborsClassifier(n_neighbors=best_k)\n",
    "knn.fit(X, y)\n",
    "y_pred_knn = knn.predict(X)\n",
    "knn_precision = precision_score(y, y_pred_knn, average='weighted')\n",
    "knn_recall = recall_score(y, y_pred_knn, average='weighted')\n",
    "knn_f1 = f1_score(y, y_pred_knn, average='weighted')\n",
    "knn_confusion = confusion_matrix(y, y_pred_knn)\n",
    "\n",
    "# چاپ نتایج\n",
    "print(f\"Naive Bayes Accuracy: {nb_accuracy}\")\n",
    "print(f\"KNN Best K: {best_k}, Best Accuracy: {best_accuracy}\")\n",
    "print(\"Naive Bayes Metrics:\")\n",
    "print(f\"Precision: {nb_precision}, Recall: {nb_recall}, F1-Score: {nb_f1}\")\n",
    "print(\"Confusion Matrix:\")\n",
    "print(nb_confusion)\n",
    "print(\"KNN Metrics:\")\n",
    "print(f\"Precision: {knn_precision}, Recall: {knn_recall}, F1-Score: {knn_f1}\")\n",
    "print(\"Confusion Matrix:\")\n",
    "print(knn_confusion)\n"
   ]
  }
 ],
 "metadata": {
  "kernelspec": {
   "display_name": ".venv",
   "language": "python",
   "name": "python3"
  },
  "language_info": {
   "codemirror_mode": {
    "name": "ipython",
    "version": 3
   },
   "file_extension": ".py",
   "mimetype": "text/x-python",
   "name": "python",
   "nbconvert_exporter": "python",
   "pygments_lexer": "ipython3",
   "version": "3.10.12"
  }
 },
 "nbformat": 4,
 "nbformat_minor": 5
}
